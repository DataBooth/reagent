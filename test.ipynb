{
 "cells": [
  {
   "cell_type": "code",
   "execution_count": 1,
   "id": "831f87c3-e462-4c1e-8ff6-243791b2116c",
   "metadata": {},
   "outputs": [],
   "source": [
    "import bia_bob"
   ]
  },
  {
   "cell_type": "code",
   "execution_count": 2,
   "id": "2a64f71b-1dcd-41cb-9fc1-54d672c8416e",
   "metadata": {},
   "outputs": [],
   "source": [
    "import github\n",
    "from github import Github\n",
    "import bia_bob\n",
    "\n",
    "def get_github_issue_details(repository: str, issue: int) -> str:\n",
    "    \"\"\"Retrieve detailed information about a specific GitHub issue.\n",
    "\n",
    "    Parameters\n",
    "    ----------\n",
    "    repository : str\n",
    "        The full name of the GitHub repository (e.g., \"username/repo-name\").\n",
    "    issue : int\n",
    "        The issue number to retrieve details for.\n",
    "\n",
    "    Returns\n",
    "    -------\n",
    "    str\n",
    "    \"\"\"\n",
    "    # Initialize Github client\n",
    "    g = Github()  # You might need to pass authentication token here\n",
    "    \n",
    "    # Get the repository\n",
    "    repo = g.get_repo(repository)\n",
    "\n",
    "    # Fetch the specified issue\n",
    "    issue = repo.get_issue(number=issue)\n",
    "\n",
    "    # Format issue details\n",
    "    content = f\"\"\"Issue #{issue.number}: {issue.title}\n",
    "State: {issue.state}\n",
    "Created at: {issue.created_at}\n",
    "Updated at: {issue.updated_at}\n",
    "Closed at: {issue.closed_at}\n",
    "Author: {issue.user.login}\n",
    "Assignees: {', '.join([assignee.login for assignee in issue.assignees])}\n",
    "Labels: {', '.join([label.name for label in issue.labels])}\n",
    "Comments: {issue.comments}\n",
    "Body:\n",
    "{issue.body}\"\"\"\n",
    "\n",
    "    # Add comments if any\n",
    "    if issue.comments > 0:\n",
    "        content += \"\\n\\nComments:\"\n",
    "        comments = issue.get_comments()\n",
    "        for comment in comments:\n",
    "            content += f\"\\n\\nComment by {comment.user.login} on {comment.created_at}:\\n{comment.body}\"\n",
    "\n",
    "    return content\n",
    "\n",
    "# Example usage:\n",
    "# result = get_github_issue_details(\"haesleinhuepf/stackview\", 10)\n",
    "# print(result)"
   ]
  },
  {
   "cell_type": "code",
   "execution_count": 3,
   "id": "919484d7-afe2-4708-8e55-696a3657e139",
   "metadata": {},
   "outputs": [],
   "source": [
    "def list_issues(repository:str, state:str=\"open\")->dict:\n",
    "    \"\"\"List all github issues with defined state on a specified repository.\n",
    "\n",
    "    Parameters\n",
    "    ----------\n",
    "    repository:str\n",
    "        a github repository\n",
    "    state:str, optional\n",
    "        issue status: can be \"open\", \"closed\" or \"all\"\n",
    "\n",
    "    Returns\n",
    "    -------\n",
    "        dictionary of issues\n",
    "    \"\"\"\n",
    "    from github import Github\n",
    "\n",
    "     # Initialize Github client\n",
    "    g = Github()  # You might need to pass authentication token here\n",
    "    \n",
    "    # Get the repository\n",
    "    repo = g.get_repo(repository)\n",
    "    \n",
    "    # Fetch all open issues\n",
    "    issues = repo.get_issues(state=state)\n",
    "\n",
    "    result = {}\n",
    "    # Print open issues\n",
    "    for issue in issues:\n",
    "        result[issue.number] = issue.title\n",
    "\n",
    "    return result"
   ]
  },
  {
   "cell_type": "code",
   "execution_count": 4,
   "id": "06c6e129-9345-4cd1-8210-7aa3573ac9ef",
   "metadata": {},
   "outputs": [],
   "source": [
    "from blablado import Assistant\n",
    "\n",
    "assistant = Assistant()\n",
    "assistant.register_tool(list_issues)\n",
    "assistant.register_tool(get_github_issue_details)"
   ]
  },
  {
   "cell_type": "code",
   "execution_count": 5,
   "id": "6a0fe5f3-9c87-4ce5-975f-74dec0bd75bc",
   "metadata": {},
   "outputs": [
    {
     "name": "stdout",
     "output_type": "stream",
     "text": [
      "There are currently 13 open issues on the haesleinhuepf/stackview repository.\n"
     ]
    }
   ],
   "source": [
    "assistant.do(\"List all open issues on haesleinhuepf/stackview\")"
   ]
  },
  {
   "cell_type": "code",
   "execution_count": 6,
   "id": "3d581325-a9eb-447d-97c7-13dcfa3dc43a",
   "metadata": {},
   "outputs": [
    {
     "name": "stdout",
     "output_type": "stream",
     "text": [
      "Here are all the open issues on the haesleinhuepf/stackview repository:\n",
      "\n",
      "1. Improve bia-bob suggestions - Issue #60\n",
      "2. Feature request: `zoom_factor` parameter for `imshow` - Issue #59\n",
      "3. Feature request: `clusterplot` use lasso tool in the image and show in diagram - Issue #57\n",
      "4. Feature request: histogram as plot type for `clusterplot` - Issue #56\n",
      "5. Pycafe as platform hosting examples? - Issue #53\n",
      "6. Error with numpy in pycafe - Issue #52\n",
      "7. Interactive cropping - Issue #43\n",
      "8. Cropping interactive rectangle - Issue #42\n",
      "9. Interact function arg names and range - Issue #39\n",
      "10. Slice slider is too wide - Issue #21\n",
      "11. Explore if kwargs could be used instead of images in stackview.switch - Issue #16\n",
      "12. Interact has issues when passing a Mesh instead of image - Issue #15\n",
      "13. Assist crashes with JavaScript error - Issue #12\n"
     ]
    }
   ],
   "source": [
    "assistant.do(\"List them all\")"
   ]
  },
  {
   "cell_type": "code",
   "execution_count": 7,
   "id": "e455338f-1e03-4cfb-b018-3fdba10e8fad",
   "metadata": {},
   "outputs": [
    {
     "name": "stdout",
     "output_type": "stream",
     "text": [
      "The most important details of issue #21 on the haesleinhuepf/stackview repository are:\n",
      "\n",
      "- Title: Slice slider is too wide\n",
      "- State: Open\n",
      "- Created at: 2023-04-15 08:34:15+00:00\n",
      "- Updated at: 2023-04-15 08:34:15+00:00\n",
      "- Author: haesleinhuepf\n",
      "- Comments: 0\n",
      "- Description: The slice-slicer is sometimes so wide that a scroll bar is introduced. It would be good if it adapted to the available space.\n",
      "\n",
      "Please let me know if there is anything else I can help you with.\n"
     ]
    }
   ],
   "source": [
    "assistant.do(\"Tell me the most important details of issue #21\")"
   ]
  },
  {
   "cell_type": "raw",
   "id": "81eb1a25-774e-47d9-ac7e-6119f16f5ad2",
   "metadata": {},
   "source": [
    "%%bob use the github library to list all files in repository haesleinhuepf/stackview. \n",
    "Write this as a function with a numpy style docstring"
   ]
  },
  {
   "cell_type": "code",
   "execution_count": 8,
   "id": "ad94fb79-68c0-410e-9f22-f04521bf1720",
   "metadata": {},
   "outputs": [],
   "source": [
    "\n",
    "\n",
    "def list_repository_files(repo_name: str) -> list:\n",
    "    \"\"\"\n",
    "    List all files in a given GitHub repository.\n",
    "\n",
    "    This function uses the GitHub API to retrieve and list all files\n",
    "    in the specified repository.\n",
    "\n",
    "    Parameters\n",
    "    ----------\n",
    "    repo_name : str\n",
    "        The full name of the GitHub repository (e.g., \"username/repo-name\").\n",
    "\n",
    "    Returns\n",
    "    -------\n",
    "    list\n",
    "        A list of strings, where each string is the path of a file in the repository.\n",
    "    \"\"\"\n",
    "    from github import Github\n",
    "    \n",
    "    # Initialize Github client\n",
    "    g = Github()  # You might need to pass authentication token here\n",
    "    \n",
    "    # Get the repository\n",
    "    repo = g.get_repo(repo_name)\n",
    "\n",
    "    # Get all contents of the repository\n",
    "    contents = repo.get_contents(\"\")\n",
    "    \n",
    "    # List to store all file paths\n",
    "    all_files = []\n",
    "\n",
    "    # Iterate through all contents\n",
    "    while contents:\n",
    "        file_content = contents.pop(0)\n",
    "        if file_content.type == \"dir\":\n",
    "            # If it's a directory, get its contents and add them to the list\n",
    "            contents.extend(repo.get_contents(file_content.path))\n",
    "        else:\n",
    "            # If it's a file, add its path to the list\n",
    "            all_files.append(file_content.path)\n",
    "\n",
    "    return all_files\n",
    "\n",
    "# Example usage:\n",
    "# files = list_repository_files(\"haesleinhuepf/stackview\")\n",
    "# print(files)"
   ]
  },
  {
   "cell_type": "code",
   "execution_count": 9,
   "id": "57eb0535-08fd-4202-8108-e1ba5d77a519",
   "metadata": {},
   "outputs": [],
   "source": [
    "assistant.register_tool(list_repository_files)"
   ]
  },
  {
   "cell_type": "code",
   "execution_count": 10,
   "id": "432d844a-0682-4984-8fca-c35e7d851262",
   "metadata": {},
   "outputs": [
    {
     "name": "stdout",
     "output_type": "stream",
     "text": [
      "Here are the files in the repository \"haesleinhuepf/stackview\":\n",
      "\n",
      "1. .gitignore\n",
      "2. LICENSE\n",
      "3. README.md\n",
      "4. setup.py\n",
      "5. docs/animate.ipynb\n",
      "6. docs/annotate.ipynb\n",
      "7. docs/apoc_gui.ipynb\n",
      "8. docs/assist.ipynb\n",
      "9. docs/bia-bob-interoperability.ipynb\n",
      "10. docs/cell_segmentation.ipynb\n",
      "11. docs/colab_clesperanto_demo.ipynb\n",
      "12. docs/colormaps.ipynb\n",
      "13. docs/crop.ipynb\n",
      "14. docs/cupy_compatibility.ipynb\n",
      "15. docs/demo.ipynb\n",
      "16. docs/display_range.ipynb\n",
      "17. docs/generate_bia_bob_connector.ipynb\n",
      "18. docs/imshow.ipynb\n",
      "19. docs/insight.ipynb\n",
      "20. docs/interact.ipynb\n",
      "21. docs/pytorch_compatibility.ipynb\n",
      "22. docs/rgb_images.ipynb\n",
      "23. docs/scatterplot.ipynb\n",
      "24. docs/switch.ipynb\n",
      "25. docs/test_rectangular_images.ipynb\n",
      "26. docs/zoom.ipynb\n",
      "27. stackview/__init__.py\n",
      "28. stackview/_animate.py\n",
      "29. stackview/_annotate.py\n",
      "30. stackview/_bia_bob_plugins.py\n",
      "31. stackview/_clusterplot.py\n",
      "32. stackview/_colormaps.py\n",
      "33. stackview/_context.py\n",
      "34. stackview/_crop.py\n",
      "35. stackview/_curtain.py\n",
      "36. stackview/_display_range.py\n",
      "37. stackview/_grid.py\n",
      "38. stackview/_image_widget.py\n",
      "39. stackview/_imshow.py\n",
      "40. stackview/_interact.py\n",
      "41. stackview/_orthogonal.py\n",
      "42. stackview/_picker.py\n",
      "43. stackview/_scatterplot.py\n",
      "44. stackview/_side_by_side.py\n",
      "45. stackview/_slice.py\n",
      "46. stackview/_slice_viewer.py\n",
      "47. stackview/_static_view.py\n",
      "48. stackview/_switch.py\n",
      "49. stackview/_uint_field.py\n",
      "50. stackview/_utilities.py\n",
      "51. docs/data/CalibZAPWfixed_000154_max.tif\n",
      "52. docs/data/Haase_MRT_tfl3d1.tif\n",
      "53. docs/data/blobs.tif\n",
      "54. docs/data/hela-cells.tif\n",
      "55. docs/images/animate_on_github.gif\n",
      "56. docs/images/banner.gif\n",
      "57. docs/images/banner2.gif\n",
      "58. docs/images/biapol.png\n",
      "59. docs/images/clusterplot.gif\n",
      "60. docs/images/crop.gif\n",
      "61. docs/images/demo_annotate.gif\n",
      "62. docs/images/demo_curtain.gif\n",
      "63. docs/images/demo_curtain2.gif\n",
      "64. docs/images/demo_curtain3.gif\n",
      "65. docs/images/demo_display_range.gif\n",
      "66. docs/images/demo_interact1.gif\n",
      "67. docs/images/demo_interact2.gif\n",
      "68. docs/images/demo_interact3.gif\n",
      "69. docs/images/demo_interact4.gif\n",
      "70. docs/images/demo_orthogonal.gif\n",
      "71. docs/images/demo_picker.gif\n",
      "72. docs/images/demo_side_by_side.gif\n",
      "73. docs/images/demo_slice.gif\n",
      "74. docs/images/demo_switch.gif\n",
      "75. docs/images/demo_switch_toggleable.gif\n",
      "76. docs/images/imshow.png\n",
      "77. docs/images/imshow_pure_magenta.png\n",
      "78. docs/images/insight_demo.png\n",
      "79. docs/images/jupyter_displayable_output.png\n",
      "80. docs/images/labels_demo.png\n",
      "81. docs/images/timelapse2.gif\n",
      "82. docs/images/timelapse3.gif\n",
      "83. docs/images/voila.gif\n",
      "84. docs/images/voila.png\n"
     ]
    }
   ],
   "source": [
    "assistant.do(\"List all files in the repository haesleinhuepf/stackview\")"
   ]
  },
  {
   "cell_type": "code",
   "execution_count": 11,
   "id": "73db08f5-e8bf-4b76-8f9a-368a125b2242",
   "metadata": {},
   "outputs": [
    {
     "name": "stdout",
     "output_type": "stream",
     "text": [
      "Based on the information provided, it is difficult to determine which specific files might be relevant for issue 21 in the \"haesleinhuepf/stackview\" repository. The issue description mentions a slice slider being too wide, but there is no mention of any specific files related to this issue.\n"
     ]
    }
   ],
   "source": [
    "assistant.do(\"Which of these files might be relevant for issue 21 ?\")"
   ]
  },
  {
   "cell_type": "raw",
   "id": "5b5255d1-214f-4e1c-b0c4-5686ca64b809",
   "metadata": {},
   "source": [
    "%%bob use the github library to print out the content of the files \n",
    "stackview/_slice_viewer.py and stackview/_utilities.py in the haesleinhuepf/stackview repository.\n",
    "Write this as a function with a numpy style docstring"
   ]
  },
  {
   "cell_type": "code",
   "execution_count": 12,
   "id": "f76b816d-ca29-4796-814d-67d59db75d76",
   "metadata": {},
   "outputs": [],
   "source": [
    "def get_repository_file_contents(repo_name: str, file_paths: list) -> dict:\n",
    "    \"\"\"\n",
    "    Retrieve the contents of specified files from a GitHub repository.\n",
    "\n",
    "    Parameters\n",
    "    ----------\n",
    "    repo_name : str\n",
    "        The full name of the GitHub repository (e.g., \"username/repo-name\").\n",
    "    file_paths : list\n",
    "        A list of file paths within the repository to retrieve the contents of.\n",
    "\n",
    "    Returns\n",
    "    -------\n",
    "    dict\n",
    "        A dictionary where keys are file paths and values are the contents of the files.\n",
    "    \"\"\"\n",
    "    print(\"repo_name\", repo_name)\n",
    "    print(\"file_paths\", file_paths)\n",
    "    from github import Github\n",
    "    \n",
    "    # Initialize Github client\n",
    "    g = Github()  # You might need to pass authentication token here\n",
    "    \n",
    "    # Get the repository\n",
    "    repo = g.get_repo(repo_name)\n",
    "\n",
    "    # Dictionary to store file contents\n",
    "    file_contents = {}\n",
    "\n",
    "    # Iterate through the file paths\n",
    "    for file_path in file_paths:\n",
    "        try:\n",
    "            # Get the file content\n",
    "            file_content = repo.get_contents(file_path)\n",
    "            \n",
    "            # Decode and store the content\n",
    "            file_contents[file_path] = file_content.decoded_content.decode()\n",
    "            \n",
    "        except Exception as e:\n",
    "            file_contents[file_path] = f\"Error accessing {file_path}: {str(e)}\"\n",
    "\n",
    "    return file_contents\n",
    "\n",
    "# Example usage:\n",
    "# contents = get_repository_file_contents(\n",
    "#     \"haesleinhuepf/stackview\",\n",
    "#     [\"stackview/_slice_viewer.py\", \"stackview/_utilities.py\"]\n",
    "# )\n",
    "# for path, content in contents.items():\n",
    "#     print(f\"\\n{'=' * 20} {path} {'=' * 20}\\n\")\n",
    "#     print(content)"
   ]
  },
  {
   "cell_type": "code",
   "execution_count": 13,
   "id": "76fe302f-992b-47d6-81b7-7ce585341e8b",
   "metadata": {},
   "outputs": [],
   "source": [
    "assistant.register_tool(get_repository_file_contents)"
   ]
  },
  {
   "cell_type": "code",
   "execution_count": null,
   "id": "23fe1415-e943-4f82-b4b1-83772ba4e823",
   "metadata": {},
   "outputs": [
    {
     "name": "stderr",
     "output_type": "stream",
     "text": [
      "Request GET /repos/haesleinhuepf/stackview/contents/docs failed with 403: rate limit exceeded\n",
      "Setting next backoff to 1259.271935s\n"
     ]
    }
   ],
   "source": [
    "assistant.do(\"Load the entire content from the relevant files from the  in the repository haesleinhuepf/stackview.\")"
   ]
  },
  {
   "cell_type": "code",
   "execution_count": null,
   "id": "4f8eba77-fdd4-4512-8c44-d7a3824d50a0",
   "metadata": {},
   "outputs": [],
   "source": []
  }
 ],
 "metadata": {
  "kernelspec": {
   "display_name": "Python 3 (ipykernel)",
   "language": "python",
   "name": "python3"
  },
  "language_info": {
   "codemirror_mode": {
    "name": "ipython",
    "version": 3
   },
   "file_extension": ".py",
   "mimetype": "text/x-python",
   "name": "python",
   "nbconvert_exporter": "python",
   "pygments_lexer": "ipython3",
   "version": "3.11.9"
  }
 },
 "nbformat": 4,
 "nbformat_minor": 5
}
